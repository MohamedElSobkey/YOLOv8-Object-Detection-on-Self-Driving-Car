{
  "nbformat": 4,
  "nbformat_minor": 0,
  "metadata": {
    "colab": {
      "private_outputs": true,
      "provenance": [],
      "mount_file_id": "1y5zBV4uMdfA1DchknWNrhAORh0rik-Jp",
      "authorship_tag": "ABX9TyMOQw4rYoJ/uH2idhZSonVT",
      "include_colab_link": true
    },
    "kernelspec": {
      "name": "python3",
      "display_name": "Python 3"
    },
    "language_info": {
      "name": "python"
    }
  },
  "cells": [
    {
      "cell_type": "markdown",
      "metadata": {
        "id": "view-in-github",
        "colab_type": "text"
      },
      "source": [
        "<a href=\"https://colab.research.google.com/github/MohamedElSobkey/YOLOv8-Object-Detection-on-Self-Driving-Car/blob/main/YOLOv8_Object_Detection_on_Self_Driving_Car_.ipynb\" target=\"_parent\"><img src=\"https://colab.research.google.com/assets/colab-badge.svg\" alt=\"Open In Colab\"/></a>"
      ]
    },
    {
      "cell_type": "code",
      "source": [
        "#Importing libraries\n",
        "import numpy as np\n",
        "import PIL # picture image library\n",
        "import os\n",
        "from PIL import Image\n",
        "from IPython.display import display\n",
        "import matplotlib.pyplot as plt\n",
        "from glob import glob # to read huge a mount of images\n",
        "import random\n",
        "import cv2\n",
        "import warnings\n",
        "warnings.simplefilter('ignore')"
      ],
      "metadata": {
        "id": "Q2qtRQ6XWjEw"
      },
      "execution_count": null,
      "outputs": []
    },
    {
      "cell_type": "code",
      "source": [
        "!pip install ultralytics"
      ],
      "metadata": {
        "id": "v01b8UolWkHK"
      },
      "execution_count": null,
      "outputs": []
    },
    {
      "cell_type": "code",
      "source": [
        "import ultralytics\n",
        "from ultralytics import YOLO\n",
        "yolo_model = YOLO('yolov8m.pt')"
      ],
      "metadata": {
        "id": "rk5DlBQ9XZno"
      },
      "execution_count": null,
      "outputs": []
    },
    {
      "cell_type": "markdown",
      "source": [
        "In this section we have loaded the self-driving-cars image dataset which is used for training and testing autonomous vehicle systems and is crucial for developing and evaluating the performance of self-driving algorithms and models.\n",
        "Then we have randomly selected some images to implement yolov8 model on them as samples."
      ],
      "metadata": {
        "id": "uajvh-gHamh7"
      }
    },
    {
      "cell_type": "code",
      "source": [
        "root_path = '/content/drive/MyDrive/Object Detection Data/images/*'\n",
        "num_samples = 4\n",
        "images_data = glob(root_path)\n",
        "random_image = random.sample(images_data, num_samples)\n",
        "\n",
        "plt.figure(figsize=(10,6))\n",
        "for i in range(num_samples):\n",
        "    plt.subplot(2,2,i+1)\n",
        "    plt.imshow(cv2.imread(random_image[i]))\n",
        "    plt.axis('off')"
      ],
      "metadata": {
        "id": "mOUSrKE0XkDG"
      },
      "execution_count": null,
      "outputs": []
    },
    {
      "cell_type": "markdown",
      "source": [
        "In this section, we have extracted significant results from the pre-trained YOLOv8 model, including the 'name of the detected object,' 'bounding box coordinates', and 'detection probabilities'.\n",
        "The results for the samples have been calculated separately.\n",
        "\n",
        "\n"
      ],
      "metadata": {
        "id": "U7GhMfv3cDA_"
      }
    },
    {
      "cell_type": "code",
      "source": [
        "# Create a list to store the images\n",
        "images = []\n",
        "for i in range(num_samples):\n",
        "    yolo_outputs = yolo_model.predict(random_image[i])\n",
        "    output = yolo_outputs[0]\n",
        "    box = output.boxes\n",
        "    names = output.names\n",
        "\n",
        "    for j in range(len(box)):\n",
        "        labels = names[box.cls[j].item()]\n",
        "        coordinates = box.xyxy[j].tolist()\n",
        "        confidence = np.round(box.conf[j].item(), 2)\n",
        "        #print(f'In this image {len(box)} objects has been detected.')\n",
        "        print(f'Object {j + 1} is: {labels}')\n",
        "        print(f'Coordinates are: {coordinates}')\n",
        "        print(f'Confidence is: {confidence}')\n",
        "        print('-------')\n",
        "\n",
        "    # Store the image in the 'images' list\n",
        "    images.append(output.plot()[:, :, ::-1])"
      ],
      "metadata": {
        "id": "Y14BlaAqaouF"
      },
      "execution_count": null,
      "outputs": []
    },
    {
      "cell_type": "markdown",
      "source": [
        "In the last section, the results for the samples have been presented visually.."
      ],
      "metadata": {
        "id": "odYjKjlVcYhK"
      }
    },
    {
      "cell_type": "code",
      "source": [
        "# plotting the images after object detection\n",
        "print('\\n\\n-------------------------------------- Images after object detection with YOLOV8 --------------------------------')\n",
        "\n",
        "plt.figure(figsize=(10,6))\n",
        "for i, img in enumerate(images):\n",
        "    plt.subplot(2, 2, i + 1)\n",
        "    plt.imshow(img)\n",
        "    plt.axis('off')\n",
        "plt.tight_layout()\n",
        "plt.show()"
      ],
      "metadata": {
        "id": "aOkjDGl4aiJe"
      },
      "execution_count": null,
      "outputs": []
    }
  ]
}